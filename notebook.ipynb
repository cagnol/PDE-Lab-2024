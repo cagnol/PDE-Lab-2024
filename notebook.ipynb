{
 "cells": [
  {
   "cell_type": "markdown",
   "id": "902ff4ec-ca53-4441-9031-52e67e782635",
   "metadata": {},
   "source": [
    "# PDE - Lab on the Finite Element Method\n",
    "Friday, January 19th 2024.  Section 2.1"
   ]
  },
  {
   "cell_type": "markdown",
   "id": "7f329901-c9b6-46c8-8978-3c9affca88b5",
   "metadata": {},
   "source": [
    "## Exercise I"
   ]
  },
  {
   "cell_type": "markdown",
   "id": "3c7036da-58be-4bd4-b3c3-192ee979ec42",
   "metadata": {},
   "source": [
    "Let $f\\in L^{2}(0,1)$.\n",
    "\n",
    "Consider\n",
    "\n",
    "$$ (5.1)\\quad\\left\\{\n",
    "    \\begin{array}{ll}\n",
    "       - \\displaystyle u^{\\prime\\prime}=f \\quad \\textrm{in}\\ ]0,1[,\\\\\n",
    "       u(0)=\\alpha\\quad\\textrm{and}\\quad u(1)=\\beta. \n",
    "    \\end{array}\\right.$$\n",
    "                                         \n",
    "with $\\alpha,\\beta\\in\\mathbb{R}$."
   ]
  },
  {
   "cell_type": "markdown",
   "id": "2dc580ed-422d-46e7-8f62-9727aa438dee",
   "metadata": {},
   "source": [
    "In this notebook, we will need several librairies:"
   ]
  },
  {
   "cell_type": "code",
   "execution_count": 2,
   "id": "9d64b942-78f1-411f-8e31-9faf440cd524",
   "metadata": {},
   "outputs": [],
   "source": [
    "# Two standard librairies for mathematical functions\n",
    "\n",
    "import math\n",
    "import numpy as np\n",
    "\n",
    "\n",
    "# A standard library for plotting\n",
    "\n",
    "import matplotlib.pyplot as plt\n",
    "\n",
    "\n",
    "# Functions for numerical quadrature\n",
    "# (numerical approxmation of an integral)\n",
    "\n",
    "from scipy.integrate import quad\n",
    "from scipy import special"
   ]
  },
  {
   "cell_type": "markdown",
   "id": "e023bda7-a3e8-49b0-bf0a-8b1ecae5d130",
   "metadata": {},
   "source": [
    "### Question 1\n",
    "\n",
    "To determine a PDE with homogeneous Dirichlet conditions that is equivalent to (5.1), we use the lifting technique.\n",
    "\n",
    "It is sufficient to chose $u_{0}$ whose value at 0 is $\\alpha$ and whose value at $\\beta$ is $1$. For instance, let \n",
    "$u_0(x)=\\alpha (1-x)+\\beta x$ an consider $\\tilde{u}=u-u_0$. \n",
    "Function $\\tilde{u}$ is a solution to\n",
    "\n",
    "$$\\left \\{\n",
    "    \\begin{array}{l}\n",
    "      - \\displaystyle \\tilde{u}''= g\\quad\\textrm{in} ]0,1[,\\\\\n",
    "      \\tilde{u}(0)=0\\quad\\textrm{and}\\quad \\tilde{u}(1)=0. \n",
    "    \\end{array}\n",
    "   \\right. $$\n",
    "\n",
    "where $g(x) = f(x)+u_{0}''(x)$.\n",
    "\n",
    "This choice of $u_0$ leads to $u_0''=0$, therefore $g=f$ (subseqently there is no need to define another function)."
   ]
  },
  {
   "cell_type": "code",
   "execution_count": 3,
   "id": "7182a175-48f4-440e-a530-9a310d5281b0",
   "metadata": {},
   "outputs": [],
   "source": [
    "def u0(x):\n",
    "    return alpha*(1-x) + beta*x\n",
    "\n",
    "# We will need to define alpha and beta before using this function."
   ]
  },
  {
   "cell_type": "markdown",
   "id": "71be9a3c-f40e-4c83-8fc3-64a0885457b7",
   "metadata": {},
   "source": [
    "### Question 2\n",
    "\n",
    "We want to write the variational formulation.\n",
    "We follow the steps indicated in the handout example https://cagnol.link/pde4handout\n",
    "\n",
    "To simplify the notations, in this question we omit the tilde and write $u$ instead of $\\tilde{u}$.\n",
    "\n",
    "We obtain the variational formulation $$a(u,\\varphi)=l(\\varphi)$$\n",
    "where $a$ is defined from $C^1_0([0,1])\\times C^1_0([0,1])$ to ${\\mathbb{R}}$ by\n",
    "$$a(u,v)=\\int_0^1 u'v'$$\n",
    "and $l$ is defined from $C^1_0([0,1])$ to $\\mathbb {R}$ by $$l(v)=\\int_0^1 gv$$"
   ]
  },
  {
   "cell_type": "markdown",
   "id": "58b241f8-68e0-4e63-8ba6-47a69aeaa495",
   "metadata": {},
   "source": [
    "### Question 3\n",
    "\n",
    "Let $J\\in\\mathbb{N}^*$ and $$h=\\frac{1}{J+1}$$ "
   ]
  },
  {
   "cell_type": "code",
   "execution_count": null,
   "id": "c3968e1e-c76f-4d8a-b75f-d6439bf4a458",
   "metadata": {},
   "outputs": [],
   "source": []
  }
 ],
 "metadata": {
  "kernelspec": {
   "display_name": "Python 3 (ipykernel)",
   "language": "python",
   "name": "python3"
  },
  "language_info": {
   "codemirror_mode": {
    "name": "ipython",
    "version": 3
   },
   "file_extension": ".py",
   "mimetype": "text/x-python",
   "name": "python",
   "nbconvert_exporter": "python",
   "pygments_lexer": "ipython3",
   "version": "3.9.6"
  }
 },
 "nbformat": 4,
 "nbformat_minor": 5
}
