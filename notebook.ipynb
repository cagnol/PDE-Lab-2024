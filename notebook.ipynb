{
 "cells": [
  {
   "cell_type": "markdown",
   "id": "902ff4ec-ca53-4441-9031-52e67e782635",
   "metadata": {},
   "source": [
    "# PDE - Lab on the Finite Element Method\n",
    "Friday, January 19th 2024.  Section 2.1"
   ]
  },
  {
   "cell_type": "markdown",
   "id": "7f329901-c9b6-46c8-8978-3c9affca88b5",
   "metadata": {},
   "source": [
    "## Exercise I"
   ]
  },
  {
   "cell_type": "markdown",
   "id": "3c7036da-58be-4bd4-b3c3-192ee979ec42",
   "metadata": {},
   "source": [
    "Let $f\\in L^{2}(0,1)$.\n",
    "\n",
    "Consider\n",
    "\n",
    "$$ (5.1)\\quad\\left\\{\n",
    "    \\begin{array}{ll}\n",
    "       - \\displaystyle u^{\\prime\\prime}=f \\quad \\textrm{in}\\ ]0,1[,\\\\\n",
    "       u(0)=\\alpha\\quad\\textrm{and}\\quad u(1)=\\beta. \n",
    "    \\end{array}\\right.$$\n",
    "                                         \n",
    "with $\\alpha,\\beta\\in\\mathbb{R}$."
   ]
  },
  {
   "cell_type": "markdown",
   "id": "2dc580ed-422d-46e7-8f62-9727aa438dee",
   "metadata": {},
   "source": [
    "In this notebook, we will need several librairies:"
   ]
  },
  {
   "cell_type": "code",
   "execution_count": null,
   "id": "9d64b942-78f1-411f-8e31-9faf440cd524",
   "metadata": {},
   "outputs": [],
   "source": []
  }
 ],
 "metadata": {
  "kernelspec": {
   "display_name": "Python 3 (ipykernel)",
   "language": "python",
   "name": "python3"
  },
  "language_info": {
   "codemirror_mode": {
    "name": "ipython",
    "version": 3
   },
   "file_extension": ".py",
   "mimetype": "text/x-python",
   "name": "python",
   "nbconvert_exporter": "python",
   "pygments_lexer": "ipython3",
   "version": "3.9.6"
  }
 },
 "nbformat": 4,
 "nbformat_minor": 5
}
