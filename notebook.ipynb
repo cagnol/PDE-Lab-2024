{
 "cells": [
  {
   "cell_type": "markdown",
   "id": "902ff4ec-ca53-4441-9031-52e67e782635",
   "metadata": {},
   "source": [
    "# PDE - Lab on the Finite Element Method\n",
    "Friday, January 19th 2024.  Section 2.1"
   ]
  },
  {
   "cell_type": "code",
   "execution_count": null,
   "id": "f47b5061-46aa-44fa-a98f-64d59093bd34",
   "metadata": {},
   "outputs": [],
   "source": []
  }
 ],
 "metadata": {
  "kernelspec": {
   "display_name": "Python 3 (ipykernel)",
   "language": "python",
   "name": "python3"
  },
  "language_info": {
   "codemirror_mode": {
    "name": "ipython",
    "version": 3
   },
   "file_extension": ".py",
   "mimetype": "text/x-python",
   "name": "python",
   "nbconvert_exporter": "python",
   "pygments_lexer": "ipython3",
   "version": "3.9.6"
  }
 },
 "nbformat": 4,
 "nbformat_minor": 5
}
