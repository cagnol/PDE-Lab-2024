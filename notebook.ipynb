{
 "cells": [
  {
   "cell_type": "markdown",
   "id": "902ff4ec-ca53-4441-9031-52e67e782635",
   "metadata": {},
   "source": [
    "# PDE - Lab on the Finite Element Method\n",
    "Friday, January 19th 2024.  Section 2.1"
   ]
  },
  {
   "cell_type": "markdown",
   "id": "7f329901-c9b6-46c8-8978-3c9affca88b5",
   "metadata": {},
   "source": [
    "## Exercise I"
   ]
  },
  {
   "cell_type": "markdown",
   "id": "3c7036da-58be-4bd4-b3c3-192ee979ec42",
   "metadata": {},
   "source": [
    "Let $f\\in L^{2}(0,1)$.\n",
    "\n",
    "Consider\n",
    "\n",
    "$$ (5.1)\\quad\\left\\{\n",
    "    \\begin{array}{ll}\n",
    "       - \\displaystyle u^{\\prime\\prime}=f \\quad \\textrm{in}\\ ]0,1[,\\\\\n",
    "       u(0)=\\alpha\\quad\\textrm{and}\\quad u(1)=\\beta. \n",
    "    \\end{array}\\right.$$\n",
    "                                         \n",
    "with $\\alpha,\\beta\\in\\mathbb{R}$."
   ]
  },
  {
   "cell_type": "markdown",
   "id": "2dc580ed-422d-46e7-8f62-9727aa438dee",
   "metadata": {},
   "source": [
    "In this notebook, we will need several librairies:"
   ]
  },
  {
   "cell_type": "code",
   "execution_count": 6,
   "id": "9d64b942-78f1-411f-8e31-9faf440cd524",
   "metadata": {},
   "outputs": [],
   "source": [
    "# Two standard librairies for mathematical functions\n",
    "\n",
    "import math\n",
    "import numpy as np\n",
    "\n",
    "\n",
    "# A standard library for plotting\n",
    "\n",
    "import matplotlib.pyplot as plt\n",
    "\n",
    "\n",
    "# Functions for numerical quadrature\n",
    "# (numerical approxmation of an integral)\n",
    "\n",
    "from scipy.integrate import quad\n",
    "from scipy import special"
   ]
  },
  {
   "cell_type": "markdown",
   "id": "e023bda7-a3e8-49b0-bf0a-8b1ecae5d130",
   "metadata": {},
   "source": [
    "### Question 1\n",
    "\n",
    "To determine a PDE with homogeneous Dirichlet conditions that is equivalent to (5.1), we use the lifting technique.\n",
    "\n",
    "It is sufficient to chose $u_{0}$ whose value at 0 is $\\alpha$ and whose value at $\\beta$ is $1$. For instance, let \n",
    "$u_0(x)=\\alpha (1-x)+\\beta x$ an consider $\\tilde{u}=u-u_0$. \n",
    "Function $\\tilde{u}$ is a solution to\n",
    "\n",
    "$$\\left \\{\n",
    "    \\begin{array}{l}\n",
    "      - \\displaystyle \\tilde{u}''= g\\quad\\textrm{in} ]0,1[,\\\\\n",
    "      \\tilde{u}(0)=0\\quad\\textrm{and}\\quad \\tilde{u}(1)=0. \n",
    "    \\end{array}\n",
    "   \\right. $$\n",
    "\n",
    "where $g(x) = f(x)+u_{0}''(x)$.\n",
    "\n",
    "This choice of $u_0$ leads to $u_0''=0$, therefore $g=f$ (subseqently there is no need to define another function)."
   ]
  },
  {
   "cell_type": "code",
   "execution_count": 7,
   "id": "7182a175-48f4-440e-a530-9a310d5281b0",
   "metadata": {},
   "outputs": [],
   "source": [
    "def u0(x):\n",
    "    return alpha*(1-x) + beta*x\n",
    "\n",
    "# We will need to define alpha and beta before using this function."
   ]
  },
  {
   "cell_type": "markdown",
   "id": "71be9a3c-f40e-4c83-8fc3-64a0885457b7",
   "metadata": {
    "jp-MarkdownHeadingCollapsed": true
   },
   "source": [
    "### Question 2\n",
    "\n",
    "We want to write the variational formulation.\n",
    "We follow the steps indicated in the handout example https://cagnol.link/pde4handout\n",
    "\n",
    "To simplify the notations, in this question we omit the tilde and write $u$ instead of $\\tilde{u}$.\n",
    "\n",
    "We obtain the variational formulation $$a(u,\\varphi)=l(\\varphi)$$\n",
    "where $a$ is defined from $C^1_0([0,1])\\times C^1_0([0,1])$ to ${\\mathbb{R}}$ by\n",
    "$$a(u,v)=\\int_0^1 u'v'$$\n",
    "and $l$ is defined from $C^1_0([0,1])$ to $\\mathbb {R}$ by $$l(v)=\\int_0^1 gv$$"
   ]
  },
  {
   "cell_type": "markdown",
   "id": "58b241f8-68e0-4e63-8ba6-47a69aeaa495",
   "metadata": {},
   "source": [
    "### Question 3\n",
    "\n",
    "Let $J\\in\\mathbb{N}^*$ and $$h=\\frac{1}{J+1}$$ "
   ]
  },
  {
   "cell_type": "code",
   "execution_count": 19,
   "id": "c3968e1e-c76f-4d8a-b75f-d6439bf4a458",
   "metadata": {},
   "outputs": [],
   "source": [
    "J=5       # Number of nodes - ends excluded\n",
    "h=1/(J+1) # Discretizaton step"
   ]
  },
  {
   "cell_type": "markdown",
   "id": "f1cb40ac-fc45-447d-beaf-8fc1c22a673c",
   "metadata": {},
   "source": [
    "Consider a subdivision $(x_j)_{j\\in\\{0,...,J+1\\}}$ of $[0,1]$ where $x_j=jh$.\n",
    "Let $P_1$ be the set of polynomials of degree lower than 1 and\n",
    "\n",
    "\n",
    "$$H_{0,h}=  \\{v \\in C^0([0,1])\\ |\\ \\forall j\\in\\{0,...,J\\},\\;v_{|[x_j,x_{j+1}]}\\in P_1\\ \\textrm{and}\\ v(0)=v(1)=0\\}$$\n",
    "\n",
    "We note $N_h=\\operatorname{dim} H_{0,h}$.\n",
    "We have $N_h=J$.\n",
    "\n",
    "Consider the basis $(\\phi_1,...,\\phi_{N_h})$ of $H_{0,h}$ composed of hat functions\n",
    "\n",
    "$$\\phi_j(x)=\\left\\{\\begin{array}{lll}\n",
    "    0 & \\textrm{if} & x\\in[0,(j-1)h[\\\\\n",
    "    \\frac{1}{h}x-j+1 & \\textrm{if} & x\\in [(j-1)h,jh]\\\\\n",
    "    -\\frac{1}{h}x+j+1 & \\textrm{if} & x\\in ]jh,(j+1)h]\\\\\n",
    "    0 & \\textrm{if} & x\\in](j-1)h,1]\n",
    "    \\end{array}\n",
    "    \\right.$$"
   ]
  },
  {
   "cell_type": "code",
   "execution_count": 20,
   "id": "b23511b7-81ef-415b-b8bb-bc6843aac46e",
   "metadata": {},
   "outputs": [],
   "source": [
    "# We define the hat functions\n",
    "\n",
    "def phi(x,j):\n",
    "    if x<(j-1)*h:\n",
    "        return 0\n",
    "    elif x<j*h:\n",
    "        return 1+(x-j*h)/h\n",
    "    elif x<(j+1)*h:\n",
    "        return 1-(x-j*h)/h\n",
    "    else: # x>(j+1)*h\n",
    "        return 0"
   ]
  },
  {
   "cell_type": "code",
   "execution_count": 21,
   "id": "49dfb6f3-4f44-4b18-afdb-10871071bfcd",
   "metadata": {},
   "outputs": [
    {
     "data": {
      "image/png": "[encoded data removed]",
      "text/plain": [
       "<Figure size 640x480 with 1 Axes>"
      ]
     },
     "metadata": {},
     "output_type": "display_data"
    }
   ],
   "source": [
    "# We plot with several shades of gray\n",
    "\n",
    "# Number of points to represent the function\n",
    "Nx = 200 \n",
    "\n",
    "x = np.arange(Nx,dtype=float)\n",
    "y = np.arange(Nx,dtype=float)\n",
    "\n",
    "for j in range(1,J+1): # j is in between 1 and J. See the definition of range() in case of doubt!\n",
    "\n",
    "    s = 0\n",
    "    \n",
    "    for t in np.linspace(0.0,1.0,Nx):\n",
    "        x[s] = t\n",
    "        y[s] = phi(t,j)\n",
    "        s = s+1\n",
    "    \n",
    "    color = 1-j/(J+1)\n",
    "    \n",
    "    plt.plot(x,y,color=(color,color,color))\n",
    "\n",
    "plt.show()"
   ]
  },
  {
   "cell_type": "markdown",
   "id": "ad636b83-b01f-4bd4-90b8-3005d793b0e2",
   "metadata": {},
   "source": [
    "## Exercise III"
   ]
  },
  {
   "cell_type": "markdown",
   "id": "f1a7384d-7518-4530-a310-e4d6e12af377",
   "metadata": {},
   "source": [
    "### Question 1\n",
    "$$\\forall i\\in[1,J],\\ a(u_h,\\phi_i)=l(\\phi_i)$$ \n",
    "iff $$\\forall i\\in[1,J],\\ a\\left(\\sum_{j=1}^Ju_h^j\\phi_j,\\phi_i\\right)=l(\\phi_i)$$\n",
    "iff $$\\forall i\\in[1,J],\\ \\sum_{j=1}^Ju_h^ja(\\phi_j,\\phi_i)=l(\\phi_i)$$\n",
    "iff $$A_hU_h=F_h$$\n",
    "Let us note\n",
    "- $A_h$ the $J\\times J$ matrix whose coefficients are $a(\\phi_j,\\phi_i)$ at line $i$ and column $j$\n",
    "- $U_h\\in\\mathbb{R}^J$ the vector whose components are $u_h^1,\\ldots,u_h^J$\n",
    "- $F_h\\in\\mathbb{R}^J$ the vector whose $i$-th component is $l(\\phi_i)$"
   ]
  },
  {
   "cell_type": "markdown",
   "id": "3a75c873-c813-4304-affe-a79b1db02ba4",
   "metadata": {},
   "source": [
    "### Question 2\n",
    "To compute $A_h$, we can: \n",
    "- Compute $a(\\phi_i,\\phi_j)$ by quadrature\n",
    "- Compute $a(\\phi_i,\\phi_j)$ algebraically.\n",
    "\n",
    "Thus, there are two methods.\n",
    "\n",
    "Here, we shall computer $a(\\varphi_i,\\varphi_j)$ by quadrature.\n",
    "In exercise VII, we will compute it algebraically (or use the algebraic computation carried out in the lecture)."
   ]
  },
  {
   "cell_type": "code",
   "execution_count": 22,
   "id": "a56dd7f6-e2e0-4417-bbc3-9b1e0b14d276",
   "metadata": {},
   "outputs": [],
   "source": [
    "# Derivative of the hat functions\n",
    "\n",
    "def phi_prime(x,j):\n",
    "    if x<(j-1)*h:\n",
    "        return 0\n",
    "    elif x<j*h:\n",
    "        return 1/h\n",
    "    elif x<(j+1)*h:\n",
    "        return -1/h\n",
    "    else: # x>(j+1)*h\n",
    "        return 0"
   ]
  },
  {
   "cell_type": "code",
   "execution_count": 23,
   "id": "f10677c4-a177-4582-97ab-ff44f5d79a92",
   "metadata": {},
   "outputs": [],
   "source": [
    "def phi_prime_phi_prime(x,i,j):\n",
    "    # Return phi_i'(x)*phi_j'(x)\n",
    "    return phi_prime(x,i)*phi_prime(x,j)"
   ]
  },
  {
   "cell_type": "code",
   "execution_count": 24,
   "id": "cbce0cce-a5eb-45b5-ac1d-defa474b6f51",
   "metadata": {},
   "outputs": [],
   "source": [
    "Ah = np.zeros((J,J),float)\n",
    "\n",
    "for i in range(J):\n",
    "    for j in range(J):\n",
    "        integral, erreur = quad(phi_prime_phi_prime,0,1,args=(i+1,j+1))\n",
    "        Ah[i,j] = integral"
   ]
  },
  {
   "cell_type": "code",
   "execution_count": 25,
   "id": "79ad2db5-e010-43ff-bfbc-65ba26dca78c",
   "metadata": {},
   "outputs": [
    {
     "name": "stdout",
     "output_type": "stream",
     "text": [
      "[[12. -6.  0.  0.  0.]\n",
      " [-6. 12. -6.  0.  0.]\n",
      " [ 0. -6. 12. -6.  0.]\n",
      " [ 0.  0. -6. 12. -6.]\n",
      " [ 0.  0.  0. -6. 12.]]\n"
     ]
    }
   ],
   "source": [
    "print(Ah)"
   ]
  },
  {
   "cell_type": "markdown",
   "id": "b5dd9999-1e50-43ef-9f8b-b04d0df88120",
   "metadata": {},
   "source": [
    "### Question 3"
   ]
  },
  {
   "cell_type": "markdown",
   "id": "e3cba09c-ac9d-479f-86c8-080a1f3c892c",
   "metadata": {},
   "source": [
    "Let $f(x)=12x^2$ and $\\alpha=1$, $\\beta=2$."
   ]
  },
  {
   "cell_type": "code",
   "execution_count": 26,
   "id": "14e37d5b-fe89-4dd6-aefc-61b97f13fb60",
   "metadata": {},
   "outputs": [],
   "source": [
    "alpha = 1\n",
    "beta = 2\n",
    "\n",
    "def f(x):\n",
    "    return 12*x*x"
   ]
  },
  {
   "cell_type": "markdown",
   "id": "0866f49c-05a0-4dfa-8b80-30fc5efd8108",
   "metadata": {},
   "source": [
    "Let us compute $F_h$."
   ]
  },
  {
   "cell_type": "code",
   "execution_count": 27,
   "id": "88a5ccee-0f2a-4868-96e0-a5bdae024545",
   "metadata": {},
   "outputs": [],
   "source": [
    "def f_times_phi(x,j):\n",
    "    return f(x)*phi(x,j)"
   ]
  },
  {
   "cell_type": "code",
   "execution_count": 28,
   "id": "58c00613-bc8b-47d3-80b1-a25645f7153c",
   "metadata": {},
   "outputs": [],
   "source": [
    "Fh = np.zeros((J), float)\n",
    "\n",
    "for i in range(J):\n",
    "    j = i+1\n",
    "    integrale , erreur = quad(f_times_phi, 0, 1, args=(j))\n",
    "    Fh[i] = integrale"
   ]
  },
  {
   "cell_type": "code",
   "execution_count": 29,
   "id": "27853a5d-d360-4745-a003-9fbd7776df84",
   "metadata": {},
   "outputs": [
    {
     "name": "stdout",
     "output_type": "stream",
     "text": [
      "[0.06481481 0.23148148 0.50925926 0.89814815 1.39814815]\n"
     ]
    }
   ],
   "source": [
    "print(Fh)"
   ]
  },
  {
   "cell_type": "markdown",
   "id": "6f2c9ca9-1f13-46a5-bdf5-dd7eac47ee82",
   "metadata": {},
   "source": [
    "### Question 4\n",
    "Let us solve $A_hU_h=F_h$ for $U_h$."
   ]
  },
  {
   "cell_type": "code",
   "execution_count": 30,
   "id": "d9fd316c-d33f-486a-bfcb-25d9585b3d6a",
   "metadata": {},
   "outputs": [],
   "source": [
    "Uh = np.linalg.solve(Ah,Fh)"
   ]
  },
  {
   "cell_type": "code",
   "execution_count": 31,
   "id": "acfb516a-a869-4317-a499-666d7cdaebf0",
   "metadata": {},
   "outputs": [
    {
     "name": "stdout",
     "output_type": "stream",
     "text": [
      "[0.16589506 0.32098765 0.4375     0.4691358  0.35108025]\n"
     ]
    }
   ],
   "source": [
    "print(Uh)"
   ]
  },
  {
   "cell_type": "markdown",
   "id": "7dbad8ca-9210-4c83-9ece-cc9df49f7b9a",
   "metadata": {},
   "source": [
    "### Question 5\n",
    "Let us build uh from its coefficients."
   ]
  },
  {
   "cell_type": "code",
   "execution_count": 32,
   "id": "91b6846a-b7ca-4d08-8394-3989324d6e83",
   "metadata": {},
   "outputs": [],
   "source": [
    "def u_lifted(x): # u tilde\n",
    "\n",
    "    val = 0\n",
    "\n",
    "    for j in range(1,J+1):\n",
    "        val = val + Uh[j-1]*phi(x,j)\n",
    "\n",
    "    return(val)"
   ]
  },
  {
   "cell_type": "code",
   "execution_count": 33,
   "id": "883e9774-b168-4d96-a2bd-b93161587cc2",
   "metadata": {},
   "outputs": [],
   "source": [
    "def u_unlifted(x): # the solution u we are looking for\n",
    "\n",
    "    return u_lifted(x) + u0(x)"
   ]
  },
  {
   "cell_type": "code",
   "execution_count": 34,
   "id": "6cbfee03-52bd-4008-84f7-e6d00b478231",
   "metadata": {},
   "outputs": [
    {
     "data": {
      "image/png": "[encoded data removed]",
      "text/plain": [
       "<Figure size 640x480 with 1 Axes>"
      ]
     },
     "metadata": {},
     "output_type": "display_data"
    }
   ],
   "source": [
    "# Let's plot\n",
    "\n",
    "# Number of points used to represent the function\n",
    "Nx = 200 \n",
    "\n",
    "x = np.arange(Nx,dtype=float)\n",
    "y = np.arange(Nx,dtype=float)\n",
    "\n",
    "s = 0\n",
    "\n",
    "for t in np.linspace(0.0,1.0,Nx):\n",
    "    x[s] = t\n",
    "    y[s] = u_unlifted(t)\n",
    "    s = s+1\n",
    "        \n",
    "plt.title(\"u\")\n",
    "plt.plot(x,y,'r')\n",
    "plt.show()"
   ]
  },
  {
   "cell_type": "markdown",
   "id": "cd2c2dce-ce5b-423f-848a-365ed879ad32",
   "metadata": {},
   "source": [
    "### Question 6\n",
    "We can computed the solution of the equation by hand by double integrating $f$ and fixing the two constants that appear from $u(0)$ and $u(1)$. We then find $$u(x)=-x^4+2x+1$$\n",
    "Let us plot this function."
   ]
  },
  {
   "cell_type": "code",
   "execution_count": null,
   "id": "fd10c9d5-725a-40d9-8744-ab7788d35123",
   "metadata": {},
   "outputs": [],
   "source": [
    "z = np.arange(Nx,dtype=float)\n",
    "\n",
    "s = 0\n",
    "\n",
    "for t in np.linspace(0.0,1.0,Nx):\n",
    "    z[s] = -t**4+2*t+1 \n",
    "    s = s+1\n",
    "    \n",
    "plt.title(\"Exact solution of (5.1)\")\n",
    "plt.plot(x,z,'b')\n",
    "plt.show()"
   ]
  }
 ],
 "metadata": {
  "kernelspec": {
   "display_name": "Python 3 (ipykernel)",
   "language": "python",
   "name": "python3"
  },
  "language_info": {
   "codemirror_mode": {
    "name": "ipython",
    "version": 3
   },
   "file_extension": ".py",
   "mimetype": "text/x-python",
   "name": "python",
   "nbconvert_exporter": "python",
   "pygments_lexer": "ipython3",
   "version": "3.9.6"
  }
 },
 "nbformat": 4,
 "nbformat_minor": 5
}
